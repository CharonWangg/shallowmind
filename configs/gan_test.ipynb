{
 "cells": [
  {
   "cell_type": "code",
   "execution_count": 2,
   "outputs": [
    {
     "name": "stderr",
     "output_type": "stream",
     "text": [
      "/home/charon/anaconda3/envs/dev_test/lib/python3.9/site-packages/tqdm/auto.py:22: TqdmWarning: IProgress not found. Please update jupyter and ipywidgets. See https://ipywidgets.readthedocs.io/en/stable/user_install.html\n",
      "  from .autonotebook import tqdm as notebook_tqdm\n"
     ]
    }
   ],
   "source": [
    "import sys\n",
    "import torch\n",
    "import torchvision\n",
    "sys.path.append('/home/charon/project')\n",
    "from shallowmind.api.infer import prepare_inference\n",
    "import matplotlib.pyplot as plt"
   ],
   "metadata": {
    "collapsed": false,
    "pycharm": {
     "name": "#%%\n"
    }
   }
  },
  {
   "cell_type": "code",
   "execution_count": 8,
   "outputs": [],
   "source": [
    "cfg = '/home/charon/project/shallowmind/work_dir/model=gan-dataset=mnist-lr=1e-5/gan_image_cifar_example.py'\n",
    "ckpt = '/home/charon/project/shallowmind/work_dir/model=gan-dataset=mnist-lr=1e-5/ckpts/exp_name=model=gan-dataset=mnist-lr=1e-5-cfg=gan_image_cifar_example-bs=128-seed=42-step=96614.0000.ckpt'\n",
    "di, mi = prepare_inference(cfg, ckpt)"
   ],
   "metadata": {
    "collapsed": false,
    "pycharm": {
     "name": "#%%\n"
    }
   }
  },
  {
   "cell_type": "code",
   "execution_count": 9,
   "outputs": [],
   "source": [
    "pic = mi(torch.ones(3))"
   ],
   "metadata": {
    "collapsed": false,
    "pycharm": {
     "name": "#%%\n"
    }
   }
  },
  {
   "cell_type": "code",
   "execution_count": 10,
   "outputs": [
    {
     "data": {
      "text/plain": "tensor(0.)"
     },
     "execution_count": 10,
     "metadata": {},
     "output_type": "execute_result"
    }
   ],
   "source": [
    "di.train_dataloader().dataset[0][0]['image'].min()"
   ],
   "metadata": {
    "collapsed": false,
    "pycharm": {
     "name": "#%%\n"
    }
   }
  },
  {
   "cell_type": "code",
   "execution_count": 11,
   "outputs": [
    {
     "data": {
      "text/plain": "<Figure size 640x480 with 4 Axes>",
      "image/png": "[encoded data removed]"
     },
     "metadata": {},
     "output_type": "display_data"
    }
   ],
   "source": [
    "fig, axes = plt.subplots(1, 4)\n",
    "axes[0].imshow(di.train_dataloader().dataset[0][0]['image'].permute(1, 2, 0))\n",
    "for i in range(1, 4):\n",
    "    axes[i].imshow(pic[i-1].permute(1, 2, 0).detach().numpy().sum(axis=-1), cmap='gray')"
   ],
   "metadata": {
    "collapsed": false,
    "pycharm": {
     "name": "#%%\n"
    }
   }
  },
  {
   "cell_type": "code",
   "execution_count": 6,
   "outputs": [
    {
     "ename": "IndexError",
     "evalue": "index 3 is out of bounds for dimension 0 with size 3",
     "output_type": "error",
     "traceback": [
      "\u001B[0;31m---------------------------------------------------------------------------\u001B[0m",
      "\u001B[0;31mIndexError\u001B[0m                                Traceback (most recent call last)",
      "Cell \u001B[0;32mIn [6], line 1\u001B[0m\n\u001B[0;32m----> 1\u001B[0m \u001B[43mpic\u001B[49m\u001B[43m[\u001B[49m\u001B[43mi\u001B[49m\u001B[43m]\u001B[49m\u001B[38;5;241m.\u001B[39mshape\n",
      "\u001B[0;31mIndexError\u001B[0m: index 3 is out of bounds for dimension 0 with size 3"
     ]
    }
   ],
   "source": [
    "pic[i].shape"
   ],
   "metadata": {
    "collapsed": false,
    "pycharm": {
     "name": "#%%\n"
    }
   }
  },
  {
   "cell_type": "code",
   "execution_count": null,
   "outputs": [
    {
     "name": "stdout",
     "output_type": "stream",
     "text": [
      "Epoch 00 | Step 0100 / 469 | Loss_D 0.1502 | Loss_G 5.9509\n",
      "Epoch 00 | Step 0200 / 469 | Loss_D 0.1304 | Loss_G 5.1689\n",
      "Epoch 00 | Step 0300 / 469 | Loss_D 0.2030 | Loss_G 4.5618\n",
      "Epoch 00 | Step 0400 / 469 | Loss_D 0.3021 | Loss_G 4.0050\n",
      "Epoch 00 | Step 0469 / 469 | Loss_D 0.3489 | Loss_G 3.7271\n",
      "Epoch 01 | Step 0100 / 469 | Loss_D 0.7348 | Loss_G 2.0288\n",
      "Epoch 01 | Step 0200 / 469 | Loss_D 0.7669 | Loss_G 1.8912\n",
      "Epoch 01 | Step 0300 / 469 | Loss_D 0.7977 | Loss_G 1.8026\n",
      "Epoch 01 | Step 0400 / 469 | Loss_D 0.8142 | Loss_G 1.7379\n",
      "Epoch 01 | Step 0469 / 469 | Loss_D 0.8205 | Loss_G 1.7097\n",
      "Epoch 02 | Step 0100 / 469 | Loss_D 0.8913 | Loss_G 1.4750\n",
      "Epoch 02 | Step 0200 / 469 | Loss_D 0.9063 | Loss_G 1.4675\n",
      "Epoch 02 | Step 0300 / 469 | Loss_D 0.9129 | Loss_G 1.4571\n",
      "Epoch 02 | Step 0400 / 469 | Loss_D 0.9185 | Loss_G 1.4498\n",
      "Epoch 02 | Step 0469 / 469 | Loss_D 0.9241 | Loss_G 1.4443\n",
      "Epoch 03 | Step 0100 / 469 | Loss_D 0.9859 | Loss_G 1.4573\n",
      "Epoch 03 | Step 0200 / 469 | Loss_D 0.9819 | Loss_G 1.4853\n",
      "Epoch 03 | Step 0300 / 469 | Loss_D 0.9693 | Loss_G 1.4840\n",
      "Epoch 03 | Step 0400 / 469 | Loss_D 0.9641 | Loss_G 1.4756\n",
      "Epoch 03 | Step 0469 / 469 | Loss_D 0.9665 | Loss_G 1.4604\n",
      "Epoch 04 | Step 0100 / 469 | Loss_D 0.9423 | Loss_G 1.4108\n",
      "Epoch 04 | Step 0200 / 469 | Loss_D 0.9531 | Loss_G 1.3943\n",
      "Epoch 04 | Step 0300 / 469 | Loss_D 0.9535 | Loss_G 1.3963\n",
      "Epoch 04 | Step 0400 / 469 | Loss_D 0.9559 | Loss_G 1.3927\n",
      "Epoch 04 | Step 0469 / 469 | Loss_D 0.9513 | Loss_G 1.3908\n",
      "Epoch 05 | Step 0100 / 469 | Loss_D 0.9556 | Loss_G 1.3937\n",
      "Epoch 05 | Step 0200 / 469 | Loss_D 0.9463 | Loss_G 1.4081\n",
      "Epoch 05 | Step 0300 / 469 | Loss_D 0.9443 | Loss_G 1.4060\n",
      "Epoch 05 | Step 0400 / 469 | Loss_D 0.9455 | Loss_G 1.4132\n",
      "Epoch 05 | Step 0469 / 469 | Loss_D 0.9486 | Loss_G 1.4103\n",
      "Epoch 06 | Step 0100 / 469 | Loss_D 0.9470 | Loss_G 1.4045\n",
      "Epoch 06 | Step 0200 / 469 | Loss_D 0.9426 | Loss_G 1.4152\n",
      "Epoch 06 | Step 0300 / 469 | Loss_D 0.9453 | Loss_G 1.4089\n",
      "Epoch 06 | Step 0400 / 469 | Loss_D 0.9477 | Loss_G 1.4106\n",
      "Epoch 06 | Step 0469 / 469 | Loss_D 0.9510 | Loss_G 1.4036\n",
      "Epoch 07 | Step 0100 / 469 | Loss_D 0.9438 | Loss_G 1.3911\n",
      "Epoch 07 | Step 0200 / 469 | Loss_D 0.9523 | Loss_G 1.3800\n",
      "Epoch 07 | Step 0300 / 469 | Loss_D 0.9526 | Loss_G 1.3801\n",
      "Epoch 07 | Step 0400 / 469 | Loss_D 0.9529 | Loss_G 1.3750\n",
      "Epoch 07 | Step 0469 / 469 | Loss_D 0.9561 | Loss_G 1.3726\n",
      "Epoch 08 | Step 0100 / 469 | Loss_D 0.9764 | Loss_G 1.3607\n",
      "Epoch 08 | Step 0200 / 469 | Loss_D 0.9704 | Loss_G 1.3564\n",
      "Epoch 08 | Step 0300 / 469 | Loss_D 0.9708 | Loss_G 1.3608\n",
      "Epoch 08 | Step 0400 / 469 | Loss_D 0.9691 | Loss_G 1.3628\n",
      "Epoch 08 | Step 0469 / 469 | Loss_D 0.9655 | Loss_G 1.3690\n",
      "Epoch 09 | Step 0100 / 469 | Loss_D 0.9659 | Loss_G 1.3863\n",
      "Epoch 09 | Step 0200 / 469 | Loss_D 0.9748 | Loss_G 1.3742\n",
      "Epoch 09 | Step 0300 / 469 | Loss_D 0.9705 | Loss_G 1.3733\n"
     ]
    }
   ],
   "source": [
    "import torch\n",
    "import torch.nn as nn\n",
    "import numpy as np\n",
    "from torch.utils.data import DataLoader\n",
    "from torchvision import datasets, transforms\n",
    "from torchvision.utils import save_image\n",
    "\n",
    "device = torch.device('cuda:0' if torch.cuda.is_available() else 'cpu')\n",
    "\n",
    "input_dim = 100\n",
    "batch_size = 128\n",
    "num_epoch = 10\n",
    "\n",
    "\n",
    "# =================================================生成器================================================================\n",
    "class Generator(nn.Module):\n",
    "    def __init__(self, input_dim):\n",
    "        super(Generator, self).__init__()\n",
    "        self.fc1 = nn.Linear(input_dim, 32 * 32)\n",
    "        self.br1 = nn.Sequential(\n",
    "            nn.BatchNorm1d(1024),\n",
    "            nn.ReLU()\n",
    "        )\n",
    "        self.fc2 = nn.Linear(32 * 32, 128 * 7 * 7)\n",
    "        self.br2 = nn.Sequential(\n",
    "            nn.BatchNorm1d(128 * 7 * 7),\n",
    "            nn.ReLU()\n",
    "        )\n",
    "        self.conv1 = nn.Sequential(\n",
    "            nn.ConvTranspose2d(128, 64, 4, stride=2, padding=1),\n",
    "            nn.BatchNorm2d(64),\n",
    "            nn.ReLU(),\n",
    "        )\n",
    "        self.conv2 = nn.Sequential(\n",
    "            nn.ConvTranspose2d(64, 1, 4, stride=2, padding=1),\n",
    "            nn.Sigmoid()\n",
    "        )\n",
    "\n",
    "    def forward(self, x):\n",
    "        x = self.br1(self.fc1(x))\n",
    "        x = self.br2(self.fc2(x))\n",
    "        x = x.reshape(-1, 128, 7, 7)\n",
    "        x = self.conv1(x)\n",
    "        output = self.conv2(x)\n",
    "        return output\n",
    "\n",
    "\n",
    "# =================================================判别器================================================================\n",
    "class Discriminator(nn.Module):\n",
    "    def __init__(self):\n",
    "        super(Discriminator, self).__init__()\n",
    "        self.conv1 = nn.Sequential(\n",
    "            nn.Conv2d(1, 32, 5, stride=1),\n",
    "            nn.LeakyReLU(0.2)\n",
    "        )\n",
    "        self.pl1 = nn.MaxPool2d(2, stride=2)\n",
    "        self.conv2 = nn.Sequential(\n",
    "            nn.Conv2d(32, 64, 5, stride=1),\n",
    "            nn.LeakyReLU(0.2)\n",
    "        )\n",
    "        self.pl2 = nn.MaxPool2d(2, stride=2)\n",
    "        self.fc1 = nn.Sequential(\n",
    "            nn.Linear(64 * 4 * 4, 1024),\n",
    "            nn.LeakyReLU(0.2)\n",
    "        )\n",
    "        self.fc2 = nn.Sequential(\n",
    "            nn.Linear(1024, 1),\n",
    "            nn.Sigmoid()\n",
    "        )\n",
    "\n",
    "    def forward(self, x):\n",
    "        x = self.conv1(x)\n",
    "        x = self.pl1(x)\n",
    "        x = self.conv2(x)\n",
    "        x = self.pl2(x)\n",
    "        x = x.view(x.shape[0], -1)\n",
    "        x = self.fc1(x)\n",
    "        output = self.fc2(x)\n",
    "        return output\n",
    "\n",
    "# ==================================================训练================================================================\n",
    "def training(x):\n",
    "    '''判别器'''\n",
    "    real_x = x.to(device)\n",
    "    real_output = D(real_x)\n",
    "    real_loss = loss_func(real_output, torch.ones_like(real_output).to(device))\n",
    "\n",
    "    fake_x = G(torch.randn([batch_size, input_dim]).to(device)).detach()\n",
    "    fake_output = D(fake_x)\n",
    "    fake_loss = loss_func(fake_output, torch.zeros_like(fake_output).to(device))\n",
    "\n",
    "    loss_D = real_loss + fake_loss\n",
    "\n",
    "    optim_D.zero_grad()\n",
    "    loss_D.backward()\n",
    "    optim_D.step()\n",
    "\n",
    "    '''生成器'''\n",
    "    fake_x = G(torch.randn([batch_size, input_dim]).to(device))\n",
    "    fake_output = D(fake_x)\n",
    "    loss_G = loss_func(fake_output, torch.ones_like(fake_output).to(device))\n",
    "\n",
    "    optim_G.zero_grad()\n",
    "    loss_G.backward()\n",
    "    optim_G.step()\n",
    "\n",
    "    return loss_D, loss_G\n",
    "\n",
    "\n",
    "if __name__ == '__main__':\n",
    "    train_dataset = datasets.MNIST(root=\"./data/\", train=True, transform=transforms.ToTensor(), download=False)\n",
    "    train_loader = DataLoader(dataset=train_dataset, batch_size=128, shuffle=True)\n",
    "\n",
    "    G = Generator(input_dim).to(device)\n",
    "    D = Discriminator().to(device)\n",
    "    optim_G = torch.optim.Adam(G.parameters(), lr=0.0002)\n",
    "    optim_D = torch.optim.Adam(D.parameters(), lr=0.0002)\n",
    "    loss_func = nn.BCELoss()\n",
    "\n",
    "    for epoch in range(num_epoch):\n",
    "        total_loss_D, total_loss_G = 0, 0\n",
    "        for i, (x, _) in enumerate(train_loader):\n",
    "            loss_D, loss_G = training(x)\n",
    "\n",
    "            total_loss_D += loss_D\n",
    "            total_loss_G += loss_G\n",
    "\n",
    "            if (i + 1) % 100 == 0 or (i + 1) == len(train_loader):\n",
    "                print('Epoch {:02d} | Step {:04d} / {} | Loss_D {:.4f} | Loss_G {:.4f}'.format(epoch, i + 1, len(train_loader), total_loss_D / (i + 1), total_loss_G / (i + 1)))\n",
    "\n",
    "        x = torch.randn(64, input_dim).to(device)\n",
    "        img = G(x)"
   ],
   "metadata": {
    "collapsed": false,
    "pycharm": {
     "name": "#%%\n"
    }
   }
  },
  {
   "cell_type": "code",
   "execution_count": null,
   "outputs": [],
   "source": [
    "import matplotlib.pyplot as plt\n",
    "fig, axes = plt.subplots(1, 6)\n",
    "for i in range(6):\n",
    "    axes[i].imshow(\n",
    "\n",
    "    .reshape(28, 28), cmap='gray')"
   ],
   "metadata": {
    "collapsed": false,
    "pycharm": {
     "name": "#%%\n"
    }
   }
  },
  {
   "cell_type": "code",
   "execution_count": null,
   "outputs": [],
   "source": [],
   "metadata": {
    "collapsed": false,
    "pycharm": {
     "name": "#%%\n"
    }
   }
  },
  {
   "cell_type": "code",
   "execution_count": null,
   "outputs": [],
   "source": [],
   "metadata": {
    "collapsed": false,
    "pycharm": {
     "name": "#%%\n"
    }
   }
  },
  {
   "cell_type": "code",
   "execution_count": null,
   "outputs": [],
   "source": [],
   "metadata": {
    "collapsed": false,
    "pycharm": {
     "name": "#%%\n"
    }
   }
  },
  {
   "cell_type": "code",
   "execution_count": null,
   "outputs": [],
   "source": [],
   "metadata": {
    "collapsed": false,
    "pycharm": {
     "name": "#%%\n"
    }
   }
  },
  {
   "cell_type": "code",
   "execution_count": null,
   "outputs": [],
   "source": [],
   "metadata": {
    "collapsed": false,
    "pycharm": {
     "name": "#%%\n"
    }
   }
  },
  {
   "cell_type": "code",
   "execution_count": null,
   "outputs": [],
   "source": [],
   "metadata": {
    "collapsed": false,
    "pycharm": {
     "name": "#%%\n"
    }
   }
  },
  {
   "cell_type": "code",
   "execution_count": null,
   "outputs": [],
   "source": [],
   "metadata": {
    "collapsed": false,
    "pycharm": {
     "name": "#%%\n"
    }
   }
  },
  {
   "cell_type": "code",
   "execution_count": null,
   "outputs": [],
   "source": [],
   "metadata": {
    "collapsed": false,
    "pycharm": {
     "name": "#%%\n"
    }
   }
  },
  {
   "cell_type": "code",
   "execution_count": null,
   "outputs": [],
   "source": [],
   "metadata": {
    "collapsed": false,
    "pycharm": {
     "name": "#%%\n"
    }
   }
  },
  {
   "cell_type": "code",
   "execution_count": null,
   "outputs": [],
   "source": [],
   "metadata": {
    "collapsed": false,
    "pycharm": {
     "name": "#%%\n"
    }
   }
  },
  {
   "cell_type": "code",
   "execution_count": null,
   "outputs": [],
   "source": [],
   "metadata": {
    "collapsed": false,
    "pycharm": {
     "name": "#%%\n"
    }
   }
  },
  {
   "cell_type": "code",
   "execution_count": null,
   "outputs": [],
   "source": [],
   "metadata": {
    "collapsed": false,
    "pycharm": {
     "name": "#%%\n"
    }
   }
  }
 ],
 "metadata": {
  "kernelspec": {
   "name": "conda-env-dev_test-py",
   "language": "python",
   "display_name": "Python [conda env:dev_test]"
  },
  "language_info": {
   "codemirror_mode": {
    "name": "ipython",
    "version": 2
   },
   "file_extension": ".py",
   "mimetype": "text/x-python",
   "name": "python",
   "nbconvert_exporter": "python",
   "pygments_lexer": "ipython2",
   "version": "2.7.6"
  }
 },
 "nbformat": 4,
 "nbformat_minor": 0
}